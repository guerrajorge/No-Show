{
 "cells": [
  {
   "cell_type": "code",
   "execution_count": 1,
   "metadata": {
    "collapsed": true
   },
   "outputs": [],
   "source": [
    "import argparse\n",
    "import pandas as pd\n",
    "import os\n",
    "from sklearn.model_selection import train_test_split\n",
    "from sklearn.model_selection import StratifiedKFold\n",
    "import numpy as np\n",
    "import logging\n",
    "from utils.logger import logger_initialization\n",
    "from sklearn.model_selection import GridSearchCV\n",
    "from sklearn import metrics\n",
    "from sklearn.preprocessing import LabelEncoder\n",
    "\n",
    "# seed for numpy and sklearn\n",
    "random_state = 7\n",
    "np.random.seed(random_state)"
   ]
  },
  {
   "cell_type": "code",
   "execution_count": 2,
   "metadata": {
    "collapsed": true
   },
   "outputs": [],
   "source": [
    "# ignore warning of compiling tensorflow from source\n",
    "os.environ['TF_CPP_MIN_LOG_LEVEL'] = '2'\n",
    "\n",
    "input_file='datasets/training.csv'\n",
    "\n",
    "dataset = pd.read_csv(filepath_or_buffer=input_file, delimiter='|')\n"
   ]
  },
  {
   "cell_type": "code",
   "execution_count": 3,
   "metadata": {},
   "outputs": [
    {
     "name": "stdout",
     "output_type": "stream",
     "text": [
      "   PATIENT_KEY  TIME_TO_APPT  NOSHOW  NENCOUNTERTYPE  AGEGROUP  \\\n",
      "0     10977031             7       0               3         1   \n",
      "1     10977031             7       1               3         1   \n",
      "2     10977031             7       1               3         1   \n",
      "3     10977031             7       0               3         1   \n",
      "4     10977031             7       0               3         1   \n",
      "\n",
      "  ENCOUNTER_DEPARTMENT_ABBR ENCOUNTER_DEPARTMENT_SPECIALTY  \\\n",
      "0                      KFCH             GENERAL PEDIATRICS   \n",
      "1                      KFCH             GENERAL PEDIATRICS   \n",
      "2                      KFCH             GENERAL PEDIATRICS   \n",
      "3                      KFCH             GENERAL PEDIATRICS   \n",
      "4                      KFCH             GENERAL PEDIATRICS   \n",
      "\n",
      "  ENCOUNTER_APPOINTMENT_WEEK_DAY ENCOUNTER_APPOINTMENT_TYPE PATIENT_GENDER  \\\n",
      "0                      Tuesday                     SAME DAY              F   \n",
      "1                      Tuesday                     SAME DAY              F   \n",
      "2                      Tuesday                     SAME DAY              F   \n",
      "3                      Tuesday                     SAME DAY              F   \n",
      "4                      Tuesday                     SAME DAY              F   \n",
      "\n",
      "   PRACTICE_GRP ENCOUNTER_APPOINTMENT_DATETIME  \n",
      "0             3     2017-08-15 11:00:00.000000  \n",
      "1             3     2017-08-16 11:00:00.000000  \n",
      "2             3     2017-08-17 11:00:00.000000  \n",
      "3             3     2017-08-20 11:00:00.000000  \n",
      "4             3     2017-08-27 11:00:00.000000  \n"
     ]
    }
   ],
   "source": [
    "print(dataset.iloc[0:5])"
   ]
  },
  {
   "cell_type": "code",
   "execution_count": 4,
   "metadata": {},
   "outputs": [],
   "source": [
    "# encode class values as integers\n",
    "encoder = LabelEncoder()\n",
    "categorical_keys = ['ENCOUNTER_DEPARTMENT_ABBR', 'ENCOUNTER_DEPARTMENT_SPECIALTY', 'ENCOUNTER_APPOINTMENT_WEEK_DAY',\n",
    "                    'ENCOUNTER_APPOINTMENT_TYPE', 'PATIENT_GENDER']\n",
    "\n",
    "dataset_floats = dataset.copy()\n",
    "\n",
    "for key in categorical_keys:\n",
    "    dataset_floats[key] = encoder.fit_transform(dataset[key])\n",
    "\n",
    "# remove every row that is missing a value\n",
    "dataset_floats.dropna(axis=0, inplace=True)\n",
    "\n",
    "# labels 0 == SHOWUP, 1 == NOSHOW\n",
    "y = np.array(dataset_floats['NOSHOW'])\n",
    "\n",
    "dataset_floats['ENCOUNTER_APPOINTMENT_DATETIME'] = pd.to_datetime(dataset_floats['ENCOUNTER_APPOINTMENT_DATETIME'])\n",
    "\n",
    "\n",
    "dataset=dataset_floats"
   ]
  },
  {
   "cell_type": "code",
   "execution_count": 5,
   "metadata": {},
   "outputs": [
    {
     "name": "stdout",
     "output_type": "stream",
     "text": [
      "Dataset converted to only digits\n",
      "   PATIENT_KEY  TIME_TO_APPT  NOSHOW  NENCOUNTERTYPE  AGEGROUP  \\\n",
      "0     10977031             7       0               3         1   \n",
      "1     10977031             7       1               3         1   \n",
      "2     10977031             7       1               3         1   \n",
      "3     10977031             7       0               3         1   \n",
      "4     10977031             7       0               3         1   \n",
      "\n",
      "   ENCOUNTER_DEPARTMENT_ABBR  ENCOUNTER_DEPARTMENT_SPECIALTY  \\\n",
      "0                          0                               0   \n",
      "1                          0                               0   \n",
      "2                          0                               0   \n",
      "3                          0                               0   \n",
      "4                          0                               0   \n",
      "\n",
      "   ENCOUNTER_APPOINTMENT_WEEK_DAY  ENCOUNTER_APPOINTMENT_TYPE  PATIENT_GENDER  \\\n",
      "0                               1                           0               0   \n",
      "1                               1                           0               0   \n",
      "2                               1                           0               0   \n",
      "3                               1                           0               0   \n",
      "4                               1                           0               0   \n",
      "\n",
      "   PRACTICE_GRP ENCOUNTER_APPOINTMENT_DATETIME  \n",
      "0             3            2017-08-15 11:00:00  \n",
      "1             3            2017-08-16 11:00:00  \n",
      "2             3            2017-08-17 11:00:00  \n",
      "3             3            2017-08-20 11:00:00  \n",
      "4             3            2017-08-27 11:00:00  \n"
     ]
    }
   ],
   "source": [
    "print('Dataset converted to only digits')\n",
    "print(dataset.iloc[0:5])"
   ]
  },
  {
   "cell_type": "code",
   "execution_count": 6,
   "metadata": {},
   "outputs": [
    {
     "name": "stdout",
     "output_type": "stream",
     "text": [
      "data points NOSHOW true = 5\n",
      "data points NOSHOW False = 5\n"
     ]
    }
   ],
   "source": [
    "number_ones = len(y[y==1])\n",
    "print('data points NOSHOW true = {0}'.format(number_ones))\n",
    "number_zeros = len(y[y==0])\n",
    "print('data points NOSHOW False = {0}'.format(number_zeros))\n"
   ]
  },
  {
   "cell_type": "code",
   "execution_count": 7,
   "metadata": {
    "collapsed": true
   },
   "outputs": [],
   "source": [
    "x_train, x_test, y_train, y_test = train_test_split(dataset, y, test_size=0.33, random_state=42) "
   ]
  },
  {
   "cell_type": "code",
   "execution_count": 8,
   "metadata": {
    "collapsed": true
   },
   "outputs": [],
   "source": [
    "x_train = x_train.assign(SHOW_FREQUENCY=np.ones(np.shape(x_train)[0]))\n",
    "x_test = x_test.assign(SHOW_FREQUENCY=np.ones(np.shape(x_test)[0]))\n"
   ]
  },
  {
   "cell_type": "code",
   "execution_count": 9,
   "metadata": {},
   "outputs": [
    {
     "name": "stdout",
     "output_type": "stream",
     "text": [
      "   PATIENT_KEY  TIME_TO_APPT  NOSHOW  NENCOUNTERTYPE  AGEGROUP  \\\n",
      "7      9268929             0       1               3         4   \n",
      "2     10977031             7       1               3         1   \n",
      "9      9268929             0       1               3         4   \n",
      "4     10977031             7       0               3         1   \n",
      "3     10977031             7       0               3         1   \n",
      "\n",
      "   ENCOUNTER_DEPARTMENT_ABBR  ENCOUNTER_DEPARTMENT_SPECIALTY  \\\n",
      "7                          1                               0   \n",
      "2                          0                               0   \n",
      "9                          1                               0   \n",
      "4                          0                               0   \n",
      "3                          0                               0   \n",
      "\n",
      "   ENCOUNTER_APPOINTMENT_WEEK_DAY  ENCOUNTER_APPOINTMENT_TYPE  PATIENT_GENDER  \\\n",
      "7                               0                           1               0   \n",
      "2                               1                           0               0   \n",
      "9                               0                           1               0   \n",
      "4                               1                           0               0   \n",
      "3                               1                           0               0   \n",
      "\n",
      "   PRACTICE_GRP ENCOUNTER_APPOINTMENT_DATETIME  SHOW_FREQUENCY  \n",
      "7             3            2015-11-17 11:30:00             1.0  \n",
      "2             3            2017-08-17 11:00:00             1.0  \n",
      "9             3            2015-11-19 09:30:00             1.0  \n",
      "4             3            2017-08-27 11:00:00             1.0  \n",
      "3             3            2017-08-20 11:00:00             1.0  \n",
      "   PATIENT_KEY  TIME_TO_APPT  NOSHOW  NENCOUNTERTYPE  AGEGROUP  \\\n",
      "8      9268929             0       1               3         4   \n",
      "1     10977031             7       1               3         1   \n",
      "5      9268929             0       0               3         4   \n",
      "0     10977031             7       0               3         1   \n",
      "\n",
      "   ENCOUNTER_DEPARTMENT_ABBR  ENCOUNTER_DEPARTMENT_SPECIALTY  \\\n",
      "8                          1                               0   \n",
      "1                          0                               0   \n",
      "5                          1                               0   \n",
      "0                          0                               0   \n",
      "\n",
      "   ENCOUNTER_APPOINTMENT_WEEK_DAY  ENCOUNTER_APPOINTMENT_TYPE  PATIENT_GENDER  \\\n",
      "8                               0                           1               0   \n",
      "1                               1                           0               0   \n",
      "5                               0                           1               0   \n",
      "0                               1                           0               0   \n",
      "\n",
      "   PRACTICE_GRP ENCOUNTER_APPOINTMENT_DATETIME  SHOW_FREQUENCY  \n",
      "8             3            2015-11-18 09:30:00             1.0  \n",
      "1             3            2017-08-16 11:00:00             1.0  \n",
      "5             3            2015-11-16 09:30:00             1.0  \n",
      "0             3            2017-08-15 11:00:00             1.0  \n"
     ]
    }
   ],
   "source": [
    "print(x_train[:5])\n",
    "print(x_test[:5])"
   ]
  },
  {
   "cell_type": "code",
   "execution_count": 10,
   "metadata": {
    "collapsed": true
   },
   "outputs": [],
   "source": [
    "train_data = x_train\n",
    "test_data = x_test"
   ]
  },
  {
   "cell_type": "code",
   "execution_count": 11,
   "metadata": {},
   "outputs": [
    {
     "name": "stdout",
     "output_type": "stream",
     "text": [
      "there are 2 unique patient IDs in the training dataset.\n",
      "The first 5 patients are:\n",
      "[ 9268929 10977031]\n"
     ]
    }
   ],
   "source": [
    "unique_patient_ids = train_data['PATIENT_KEY'].unique()\n",
    "print('there are {0} unique patient IDs in the training dataset.'.format(len(unique_patient_ids)))\n",
    "print('The first 5 patients are:\\n{0}'.format(unique_patient_ids[:5]))"
   ]
  },
  {
   "cell_type": "code",
   "execution_count": 12,
   "metadata": {
    "collapsed": true
   },
   "outputs": [],
   "source": [
    "# for each patient in the training dataset\n",
    "for patient_key in unique_patient_ids:\n",
    "    # get the data point matching the current patient_key\n",
    "    patient_dataframe = train_data[train_data['PATIENT_KEY'] == patient_key]\n",
    "    # number of encounters processed\n",
    "    encounters_processed = 0.0\n",
    "    # total number of encounter that the patient showed up\n",
    "    total_shows = 0.0\n",
    "    # total number of encounter that the patient did not show up\n",
    "    total_no_shows = 0.0\n",
    "    # loop through each encounter\n",
    "    for index, data_point in patient_dataframe.iterrows():\n",
    "        encounters_processed += 1.0\n",
    "        # if the patient did not show up\n",
    "        if data_point['NOSHOW']:\n",
    "            total_no_shows += 1.0\n",
    "            prob = 1 - (total_no_shows / encounters_processed)\n",
    "        else:\n",
    "            total_shows += 1.0\n",
    "            prob = total_shows / encounters_processed\n",
    "\n",
    "        # update the SHOW_FREQUENCY for the specific patient's based on the index processed\n",
    "        train_data.loc[index, 'SHOW_FREQUENCY'] = prob"
   ]
  },
  {
   "cell_type": "code",
   "execution_count": 13,
   "metadata": {},
   "outputs": [
    {
     "data": {
      "text/html": [
       "<div>\n",
       "<style>\n",
       "    .dataframe thead tr:only-child th {\n",
       "        text-align: right;\n",
       "    }\n",
       "\n",
       "    .dataframe thead th {\n",
       "        text-align: left;\n",
       "    }\n",
       "\n",
       "    .dataframe tbody tr th {\n",
       "        vertical-align: top;\n",
       "    }\n",
       "</style>\n",
       "<table border=\"1\" class=\"dataframe\">\n",
       "  <thead>\n",
       "    <tr style=\"text-align: right;\">\n",
       "      <th></th>\n",
       "      <th>PATIENT_KEY</th>\n",
       "      <th>NOSHOW</th>\n",
       "      <th>SHOW_FREQUENCY</th>\n",
       "      <th>ENCOUNTER_APPOINTMENT_DATETIME</th>\n",
       "    </tr>\n",
       "  </thead>\n",
       "  <tbody>\n",
       "    <tr>\n",
       "      <th>7</th>\n",
       "      <td>9268929</td>\n",
       "      <td>1</td>\n",
       "      <td>0.000000</td>\n",
       "      <td>2015-11-17 11:30:00</td>\n",
       "    </tr>\n",
       "    <tr>\n",
       "      <th>2</th>\n",
       "      <td>10977031</td>\n",
       "      <td>1</td>\n",
       "      <td>0.000000</td>\n",
       "      <td>2017-08-17 11:00:00</td>\n",
       "    </tr>\n",
       "    <tr>\n",
       "      <th>9</th>\n",
       "      <td>9268929</td>\n",
       "      <td>1</td>\n",
       "      <td>0.000000</td>\n",
       "      <td>2015-11-19 09:30:00</td>\n",
       "    </tr>\n",
       "    <tr>\n",
       "      <th>4</th>\n",
       "      <td>10977031</td>\n",
       "      <td>0</td>\n",
       "      <td>0.500000</td>\n",
       "      <td>2017-08-27 11:00:00</td>\n",
       "    </tr>\n",
       "    <tr>\n",
       "      <th>3</th>\n",
       "      <td>10977031</td>\n",
       "      <td>0</td>\n",
       "      <td>0.666667</td>\n",
       "      <td>2017-08-20 11:00:00</td>\n",
       "    </tr>\n",
       "    <tr>\n",
       "      <th>6</th>\n",
       "      <td>9268929</td>\n",
       "      <td>0</td>\n",
       "      <td>0.333333</td>\n",
       "      <td>2015-11-17 09:30:00</td>\n",
       "    </tr>\n",
       "  </tbody>\n",
       "</table>\n",
       "</div>"
      ],
      "text/plain": [
       "   PATIENT_KEY  NOSHOW  SHOW_FREQUENCY ENCOUNTER_APPOINTMENT_DATETIME\n",
       "7      9268929       1        0.000000            2015-11-17 11:30:00\n",
       "2     10977031       1        0.000000            2017-08-17 11:00:00\n",
       "9      9268929       1        0.000000            2015-11-19 09:30:00\n",
       "4     10977031       0        0.500000            2017-08-27 11:00:00\n",
       "3     10977031       0        0.666667            2017-08-20 11:00:00\n",
       "6      9268929       0        0.333333            2015-11-17 09:30:00"
      ]
     },
     "execution_count": 13,
     "metadata": {},
     "output_type": "execute_result"
    }
   ],
   "source": [
    "train_data[['PATIENT_KEY','NOSHOW', 'SHOW_FREQUENCY', 'ENCOUNTER_APPOINTMENT_DATETIME']]"
   ]
  },
  {
   "cell_type": "code",
   "execution_count": 28,
   "metadata": {},
   "outputs": [
    {
     "data": {
      "text/html": [
       "<div>\n",
       "<style>\n",
       "    .dataframe thead tr:only-child th {\n",
       "        text-align: right;\n",
       "    }\n",
       "\n",
       "    .dataframe thead th {\n",
       "        text-align: left;\n",
       "    }\n",
       "\n",
       "    .dataframe tbody tr th {\n",
       "        vertical-align: top;\n",
       "    }\n",
       "</style>\n",
       "<table border=\"1\" class=\"dataframe\">\n",
       "  <thead>\n",
       "    <tr style=\"text-align: right;\">\n",
       "      <th></th>\n",
       "      <th>PATIENT_KEY</th>\n",
       "      <th>NOSHOW</th>\n",
       "      <th>SHOW_FREQUENCY</th>\n",
       "      <th>ENCOUNTER_APPOINTMENT_DATETIME</th>\n",
       "    </tr>\n",
       "  </thead>\n",
       "  <tbody>\n",
       "    <tr>\n",
       "      <th>8</th>\n",
       "      <td>9268929</td>\n",
       "      <td>1</td>\n",
       "      <td>0.000000</td>\n",
       "      <td>2015-11-18 09:30:00</td>\n",
       "    </tr>\n",
       "    <tr>\n",
       "      <th>1</th>\n",
       "      <td>10977031</td>\n",
       "      <td>1</td>\n",
       "      <td>0.000000</td>\n",
       "      <td>2017-08-16 11:00:00</td>\n",
       "    </tr>\n",
       "    <tr>\n",
       "      <th>5</th>\n",
       "      <td>9268929</td>\n",
       "      <td>0</td>\n",
       "      <td>0.000000</td>\n",
       "      <td>2015-11-16 09:30:00</td>\n",
       "    </tr>\n",
       "    <tr>\n",
       "      <th>0</th>\n",
       "      <td>10977031</td>\n",
       "      <td>0</td>\n",
       "      <td>0.666667</td>\n",
       "      <td>2017-08-28 11:00:00</td>\n",
       "    </tr>\n",
       "  </tbody>\n",
       "</table>\n",
       "</div>"
      ],
      "text/plain": [
       "   PATIENT_KEY  NOSHOW  SHOW_FREQUENCY ENCOUNTER_APPOINTMENT_DATETIME\n",
       "8      9268929       1        0.000000            2015-11-18 09:30:00\n",
       "1     10977031       1        0.000000            2017-08-16 11:00:00\n",
       "5      9268929       0        0.000000            2015-11-16 09:30:00\n",
       "0     10977031       0        0.666667            2017-08-28 11:00:00"
      ]
     },
     "execution_count": 28,
     "metadata": {},
     "output_type": "execute_result"
    }
   ],
   "source": [
    "test_data[['PATIENT_KEY','NOSHOW', 'SHOW_FREQUENCY', 'ENCOUNTER_APPOINTMENT_DATETIME']]"
   ]
  },
  {
   "cell_type": "code",
   "execution_count": 29,
   "metadata": {},
   "outputs": [],
   "source": [
    "test_data.loc[0, 'ENCOUNTER_APPOINTMENT_DATETIME'] = pd.datetime(2017,8,28,11,0,0)"
   ]
  },
  {
   "cell_type": "code",
   "execution_count": 30,
   "metadata": {},
   "outputs": [],
   "source": [
    "for patient_key in unique_testing_patient_ids:\n",
    "    # if the patient in the testing dataset is not in the training dataset, then continue to the next patient and\n",
    "    # do not modified the SHOW_FREQUENCY i.e. leave it to 100% chance of showing up\n",
    "    if patient_key not in train_data['PATIENT_KEY'].values:\n",
    "        continue\n",
    "\n",
    "    training_patient_dataframe = train_data[train_data['PATIENT_KEY'] == patient_key]\n",
    "    testing_patient_dataframe = test_data[test_data['PATIENT_KEY'] == patient_key]\n",
    "\n",
    "    for test_index, testing_patient in testing_patient_dataframe.iterrows():\n",
    "        last_encounter_time = pd.datetime(1, 1, 1, 7, 0, 0)\n",
    "        for _, training_patient in training_patient_dataframe.iterrows():\n",
    "            if testing_patient['ENCOUNTER_APPOINTMENT_DATETIME'] > \\\n",
    "                    training_patient['ENCOUNTER_APPOINTMENT_DATETIME'] > last_encounter_time:\n",
    "                show_frequency = training_patient['SHOW_FREQUENCY']\n",
    "                last_encounter_time = training_patient['ENCOUNTER_APPOINTMENT_DATETIME']\n",
    "        test_data.loc[test_index, 'SHOW_FREQUENCY'] = show_frequency"
   ]
  },
  {
   "cell_type": "code",
   "execution_count": 31,
   "metadata": {},
   "outputs": [
    {
     "data": {
      "text/html": [
       "<div>\n",
       "<style>\n",
       "    .dataframe thead tr:only-child th {\n",
       "        text-align: right;\n",
       "    }\n",
       "\n",
       "    .dataframe thead th {\n",
       "        text-align: left;\n",
       "    }\n",
       "\n",
       "    .dataframe tbody tr th {\n",
       "        vertical-align: top;\n",
       "    }\n",
       "</style>\n",
       "<table border=\"1\" class=\"dataframe\">\n",
       "  <thead>\n",
       "    <tr style=\"text-align: right;\">\n",
       "      <th></th>\n",
       "      <th>PATIENT_KEY</th>\n",
       "      <th>NOSHOW</th>\n",
       "      <th>SHOW_FREQUENCY</th>\n",
       "      <th>ENCOUNTER_APPOINTMENT_DATETIME</th>\n",
       "    </tr>\n",
       "  </thead>\n",
       "  <tbody>\n",
       "    <tr>\n",
       "      <th>8</th>\n",
       "      <td>9268929</td>\n",
       "      <td>1</td>\n",
       "      <td>0.0</td>\n",
       "      <td>2015-11-18 09:30:00</td>\n",
       "    </tr>\n",
       "    <tr>\n",
       "      <th>1</th>\n",
       "      <td>10977031</td>\n",
       "      <td>1</td>\n",
       "      <td>0.0</td>\n",
       "      <td>2017-08-16 11:00:00</td>\n",
       "    </tr>\n",
       "    <tr>\n",
       "      <th>5</th>\n",
       "      <td>9268929</td>\n",
       "      <td>0</td>\n",
       "      <td>0.0</td>\n",
       "      <td>2015-11-16 09:30:00</td>\n",
       "    </tr>\n",
       "    <tr>\n",
       "      <th>0</th>\n",
       "      <td>10977031</td>\n",
       "      <td>0</td>\n",
       "      <td>0.5</td>\n",
       "      <td>2017-08-28 11:00:00</td>\n",
       "    </tr>\n",
       "  </tbody>\n",
       "</table>\n",
       "</div>"
      ],
      "text/plain": [
       "   PATIENT_KEY  NOSHOW  SHOW_FREQUENCY ENCOUNTER_APPOINTMENT_DATETIME\n",
       "8      9268929       1             0.0            2015-11-18 09:30:00\n",
       "1     10977031       1             0.0            2017-08-16 11:00:00\n",
       "5      9268929       0             0.0            2015-11-16 09:30:00\n",
       "0     10977031       0             0.5            2017-08-28 11:00:00"
      ]
     },
     "execution_count": 31,
     "metadata": {},
     "output_type": "execute_result"
    }
   ],
   "source": [
    "test_data[['PATIENT_KEY','NOSHOW', 'SHOW_FREQUENCY', 'ENCOUNTER_APPOINTMENT_DATETIME']]"
   ]
  },
  {
   "cell_type": "code",
   "execution_count": 20,
   "metadata": {},
   "outputs": [
    {
     "data": {
      "text/html": [
       "<div>\n",
       "<style>\n",
       "    .dataframe thead tr:only-child th {\n",
       "        text-align: right;\n",
       "    }\n",
       "\n",
       "    .dataframe thead th {\n",
       "        text-align: left;\n",
       "    }\n",
       "\n",
       "    .dataframe tbody tr th {\n",
       "        vertical-align: top;\n",
       "    }\n",
       "</style>\n",
       "<table border=\"1\" class=\"dataframe\">\n",
       "  <thead>\n",
       "    <tr style=\"text-align: right;\">\n",
       "      <th></th>\n",
       "      <th>PATIENT_KEY</th>\n",
       "      <th>NOSHOW</th>\n",
       "      <th>SHOW_FREQUENCY</th>\n",
       "      <th>ENCOUNTER_APPOINTMENT_DATETIME</th>\n",
       "    </tr>\n",
       "  </thead>\n",
       "  <tbody>\n",
       "    <tr>\n",
       "      <th>7</th>\n",
       "      <td>9268929</td>\n",
       "      <td>1</td>\n",
       "      <td>0.000000</td>\n",
       "      <td>2015-11-17 11:30:00</td>\n",
       "    </tr>\n",
       "    <tr>\n",
       "      <th>2</th>\n",
       "      <td>10977031</td>\n",
       "      <td>1</td>\n",
       "      <td>0.000000</td>\n",
       "      <td>2017-08-17 11:00:00</td>\n",
       "    </tr>\n",
       "    <tr>\n",
       "      <th>9</th>\n",
       "      <td>9268929</td>\n",
       "      <td>1</td>\n",
       "      <td>0.000000</td>\n",
       "      <td>2015-11-19 09:30:00</td>\n",
       "    </tr>\n",
       "    <tr>\n",
       "      <th>4</th>\n",
       "      <td>10977031</td>\n",
       "      <td>0</td>\n",
       "      <td>0.500000</td>\n",
       "      <td>2017-08-27 11:00:00</td>\n",
       "    </tr>\n",
       "    <tr>\n",
       "      <th>3</th>\n",
       "      <td>10977031</td>\n",
       "      <td>0</td>\n",
       "      <td>0.666667</td>\n",
       "      <td>2017-08-20 11:00:00</td>\n",
       "    </tr>\n",
       "    <tr>\n",
       "      <th>6</th>\n",
       "      <td>9268929</td>\n",
       "      <td>0</td>\n",
       "      <td>0.333333</td>\n",
       "      <td>2015-11-17 09:30:00</td>\n",
       "    </tr>\n",
       "  </tbody>\n",
       "</table>\n",
       "</div>"
      ],
      "text/plain": [
       "   PATIENT_KEY  NOSHOW  SHOW_FREQUENCY ENCOUNTER_APPOINTMENT_DATETIME\n",
       "7      9268929       1        0.000000            2015-11-17 11:30:00\n",
       "2     10977031       1        0.000000            2017-08-17 11:00:00\n",
       "9      9268929       1        0.000000            2015-11-19 09:30:00\n",
       "4     10977031       0        0.500000            2017-08-27 11:00:00\n",
       "3     10977031       0        0.666667            2017-08-20 11:00:00\n",
       "6      9268929       0        0.333333            2015-11-17 09:30:00"
      ]
     },
     "execution_count": 20,
     "metadata": {},
     "output_type": "execute_result"
    }
   ],
   "source": [
    "train_data[['PATIENT_KEY','NOSHOW', 'SHOW_FREQUENCY', 'ENCOUNTER_APPOINTMENT_DATETIME']]"
   ]
  },
  {
   "cell_type": "code",
   "execution_count": null,
   "metadata": {
    "collapsed": true
   },
   "outputs": [],
   "source": []
  }
 ],
 "metadata": {
  "kernelspec": {
   "display_name": "Python 3",
   "language": "python",
   "name": "python3"
  },
  "language_info": {
   "codemirror_mode": {
    "name": "ipython",
    "version": 3
   },
   "file_extension": ".py",
   "mimetype": "text/x-python",
   "name": "python",
   "nbconvert_exporter": "python",
   "pygments_lexer": "ipython3",
   "version": "3.6.1"
  }
 },
 "nbformat": 4,
 "nbformat_minor": 2
}
